{
 "cells": [
  {
   "cell_type": "code",
   "execution_count": 23,
   "id": "f84edbd1-e25e-4084-a066-21e0da2a9a1d",
   "metadata": {},
   "outputs": [],
   "source": [
    "import numpy as np\n",
    "import matplotlib.pyplot as plt"
   ]
  },
  {
   "cell_type": "code",
   "execution_count": 36,
   "id": "4fecc801-d2f0-4503-acc4-5b2a7931a443",
   "metadata": {},
   "outputs": [],
   "source": [
    "def f(x):\n",
    "    return (2 * x**2 + 2)"
   ]
  },
  {
   "cell_type": "code",
   "execution_count": 37,
   "id": "4e7636e4-fa52-4aa0-b7f6-d4c11aeee8c1",
   "metadata": {},
   "outputs": [],
   "source": [
    "x = np.arange(-2, 2.1, 0.25)"
   ]
  },
  {
   "cell_type": "code",
   "execution_count": 38,
   "id": "e9d1d57e-425d-4c2b-a105-467989ebc58d",
   "metadata": {},
   "outputs": [
    {
     "data": {
      "text/plain": [
       "array([10.   ,  8.125,  6.5  ,  5.125,  4.   ,  3.125,  2.5  ,  2.125,\n",
       "        2.   ,  2.125,  2.5  ,  3.125,  4.   ,  5.125,  6.5  ,  8.125,\n",
       "       10.   ])"
      ]
     },
     "execution_count": 38,
     "metadata": {},
     "output_type": "execute_result"
    }
   ],
   "source": [
    "y = f(x)\n",
    "y"
   ]
  },
  {
   "cell_type": "code",
   "execution_count": 39,
   "id": "153ecec0-0166-4ebf-9dd6-40a6cd3df0b3",
   "metadata": {},
   "outputs": [],
   "source": [
    "# 関数を微分（数値微分）する関数の実装\n",
    "def fdiff(f):\n",
    "    def diff(x):\n",
    "        h = 1e-6\n",
    "        return (f(x + h) - f(x - h)) / (2 * h)\n",
    "    return diff"
   ]
  },
  {
   "cell_type": "code",
   "execution_count": 40,
   "id": "7b0e366e-fb29-440a-b45a-afb094cd6d1d",
   "metadata": {},
   "outputs": [],
   "source": [
    "diff = fdiff(f)"
   ]
  },
  {
   "cell_type": "code",
   "execution_count": 41,
   "id": "2f71b6ee-a59a-4e28-a463-28f093a17637",
   "metadata": {},
   "outputs": [],
   "source": [
    "y_dash = diff(x)"
   ]
  },
  {
   "cell_type": "code",
   "execution_count": 42,
   "id": "fdcf067b-92ad-46a6-8f11-600bf1eadea3",
   "metadata": {},
   "outputs": [
    {
     "data": {
      "text/plain": [
       "array([-8., -7., -6., -5., -4., -3., -2., -1.,  0.,  1.,  2.,  3.,  4.,\n",
       "        5.,  6.,  7.,  8.])"
      ]
     },
     "execution_count": 42,
     "metadata": {},
     "output_type": "execute_result"
    }
   ],
   "source": [
    "y_dash"
   ]
  },
  {
   "cell_type": "code",
   "execution_count": 43,
   "id": "83e610e8-b4c8-42bb-a742-e576e09151ec",
   "metadata": {},
   "outputs": [
    {
     "data": {
      "text/plain": [
       "<matplotlib.legend.Legend at 0x7fe9e6e68760>"
      ]
     },
     "execution_count": 43,
     "metadata": {},
     "output_type": "execute_result"
    },
    {
     "data": {
      "image/png": "[encoded data removed]",
      "text/plain": [
       "<Figure size 432x288 with 1 Axes>"
      ]
     },
     "metadata": {
      "needs_background": "light"
     },
     "output_type": "display_data"
    }
   ],
   "source": [
    "plt.plot(x, y, label=r'y = f(x)', c='b')\n",
    "plt.plot(x, y_dash, label=r\"y = f'(x)\", c='k')\n",
    "plt.grid()\n",
    "plt.legend()"
   ]
  },
  {
   "cell_type": "code",
   "execution_count": 44,
   "id": "20f85dbf-d797-403d-8cbf-9b04de12e50e",
   "metadata": {},
   "outputs": [],
   "source": [
    "# シグモイド関数の定義\n",
    "def g(x):\n",
    "    return 1 / (1 + np.exp(-x))"
   ]
  },
  {
   "cell_type": "code",
   "execution_count": 45,
   "id": "95cbf91c-c534-4b4a-9256-c1b8e4942db5",
   "metadata": {},
   "outputs": [
    {
     "data": {
      "text/plain": [
       "array([0.11920292, 0.1480472 , 0.18242552, 0.22270014, 0.26894142,\n",
       "       0.3208213 , 0.37754067, 0.4378235 , 0.5       , 0.5621765 ,\n",
       "       0.62245933, 0.6791787 , 0.73105858, 0.77729986, 0.81757448,\n",
       "       0.8519528 , 0.88079708])"
      ]
     },
     "execution_count": 45,
     "metadata": {},
     "output_type": "execute_result"
    }
   ],
   "source": [
    "y = g(x)\n",
    "y"
   ]
  },
  {
   "cell_type": "code",
   "execution_count": 46,
   "id": "af757986-1e43-4d19-be66-19724c5d73f9",
   "metadata": {},
   "outputs": [
    {
     "data": {
      "image/png": "[encoded data removed]",
      "text/plain": [
       "<Figure size 432x288 with 1 Axes>"
      ]
     },
     "metadata": {
      "needs_background": "light"
     },
     "output_type": "display_data"
    }
   ],
   "source": [
    "plt.plot(x, y)\n",
    "plt.grid()"
   ]
  },
  {
   "cell_type": "code",
   "execution_count": 47,
   "id": "9992cbe9-7b29-4ec6-b386-f3b50e87680e",
   "metadata": {},
   "outputs": [],
   "source": [
    "diff = fdiff(g)\n",
    "y_dash = diff(x)"
   ]
  },
  {
   "cell_type": "code",
   "execution_count": 48,
   "id": "30a96f20-5483-4ed8-a0d9-e3effe8e8339",
   "metadata": {},
   "outputs": [
    {
     "data": {
      "text/plain": [
       "array([0.10499359, 0.12612923, 0.14914645, 0.17310479, 0.19661193,\n",
       "       0.21789499, 0.23500371, 0.24613408, 0.25      , 0.24613408,\n",
       "       0.23500371, 0.21789499, 0.19661193, 0.17310479, 0.14914645,\n",
       "       0.12612923, 0.10499359])"
      ]
     },
     "execution_count": 48,
     "metadata": {},
     "output_type": "execute_result"
    }
   ],
   "source": [
    "y_dash"
   ]
  },
  {
   "cell_type": "code",
   "execution_count": 49,
   "id": "448cd50d-b636-4e9a-ab5f-46b3680c1e86",
   "metadata": {},
   "outputs": [
    {
     "data": {
      "text/plain": [
       "<matplotlib.legend.Legend at 0x7fe9e6d28850>"
      ]
     },
     "execution_count": 49,
     "metadata": {},
     "output_type": "execute_result"
    },
    {
     "data": {
      "image/png": "[encoded data removed]",
      "text/plain": [
       "<Figure size 432x288 with 1 Axes>"
      ]
     },
     "metadata": {
      "needs_background": "light"
     },
     "output_type": "display_data"
    }
   ],
   "source": [
    "plt.plot(x, y, label=r'y = g(x)', c='b')\n",
    "plt.plot(x, y_dash, label=r\"y = g'(x)\", c='k')\n",
    "plt.grid()\n",
    "plt.legend()"
   ]
  },
  {
   "cell_type": "code",
   "execution_count": null,
   "id": "97e3686e-e7a1-42e5-862d-2b050cda5caf",
   "metadata": {},
   "outputs": [],
   "source": []
  },
  {
   "cell_type": "code",
   "execution_count": null,
   "id": "2a5b2fdf-2ebb-4e56-a4ed-2a25264140e3",
   "metadata": {},
   "outputs": [],
   "source": []
  },
  {
   "cell_type": "code",
   "execution_count": null,
   "id": "dfa0a07f-c427-4d24-acb7-86c60f722cac",
   "metadata": {},
   "outputs": [],
   "source": []
  }
 ],
 "metadata": {
  "kernelspec": {
   "display_name": "default:Python",
   "language": "python",
   "name": "conda-env-default-py"
  },
  "language_info": {
   "codemirror_mode": {
    "name": "ipython",
    "version": 3
   },
   "file_extension": ".py",
   "mimetype": "text/x-python",
   "name": "python",
   "nbconvert_exporter": "python",
   "pygments_lexer": "ipython3",
   "version": "3.9.12"
  }
 },
 "nbformat": 4,
 "nbformat_minor": 5
}
